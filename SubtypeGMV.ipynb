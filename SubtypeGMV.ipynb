{
 "cells": [
  {
   "cell_type": "code",
   "execution_count": 1,
   "id": "092c4bec-40a6-4291-8dcb-b39125d7e9b4",
   "metadata": {},
   "outputs": [],
   "source": [
    "%load_ext autoreload"
   ]
  },
  {
   "cell_type": "code",
   "execution_count": 2,
   "id": "9557bdd2-bf21-48a9-93a7-fb466ebc58aa",
   "metadata": {},
   "outputs": [],
   "source": [
    "%autoreload 2"
   ]
  },
  {
   "cell_type": "code",
   "execution_count": 3,
   "id": "78ba4192-4b4e-4e1e-98b0-51049ce88508",
   "metadata": {},
   "outputs": [
    {
     "name": "stderr",
     "output_type": "stream",
     "text": [
      "E:\\miniconda\\envs\\brain\\lib\\site-packages\\nilearn\\datasets\\__init__.py:90: FutureWarning: Fetchers from the nilearn.datasets module will be updated in version 0.9 to return python strings instead of bytes and Pandas dataframes instead of Numpy arrays.\n",
      "  \"Numpy arrays.\", FutureWarning)\n"
     ]
    }
   ],
   "source": [
    "import pandas as pd\n",
    "import numpy as np\n",
    "import os\n",
    "import glob\n",
    "import sys\n",
    "sys.path.extend(['E:/brain/nits'])\n",
    "from masking import extractMean,testImport,extractTIV,extractCT\n",
    "from stats import regression\n",
    "from view import mappingParcellToVolume,volumeToSurface,GMV_Mapping,GMV_MappingAtlas\n",
    "import statsmodels.formula.api as smf\n",
    "import seaborn as sns\n",
    "from patsy import dmatrices\n",
    "from statsmodels.stats.weightstats import ttest_ind\n",
    "from statsmodels.stats.multitest import fdrcorrection\n",
    "from scipy.stats import f_oneway\n",
    "import matplotlib.pyplot as plt"
   ]
  },
  {
   "cell_type": "code",
   "execution_count": 20,
   "id": "8764ff2c-1c4e-4664-a37f-8efb50e6e9ae",
   "metadata": {},
   "outputs": [],
   "source": [
    "ADNI_NC.to_csv('table/NC_ABETA.csv')"
   ]
  },
  {
   "cell_type": "code",
   "execution_count": 30,
   "id": "424e2c54-770a-44b9-8dc1-42022b13acc9",
   "metadata": {},
   "outputs": [],
   "source": [
    "ADNI_AD = pd.read_csv('E:/brain/subtype/src/table/AD_ABETA.csv')\n",
    "ADNI_MCI = pd.read_csv('E:/brain/subtype/src/table/MCI_ABETA.csv')\n",
    "ADNI_NC = pd.read_csv('E:/brain/subtype/src/table/NC_ABETA.csv')\n",
    "ADNI_NC['PTGENDER2'] = ADNI_NC['PTGENDER'].apply(lambda x : 1 if x== 'Male' else 2)\n",
    "ADNI_NC['Years_bl2'] = ADNI_NC['Years_bl'].apply(lambda x : 0 if(pd.isna(x)) else x)\n",
    "ADNI_NC['AGE2'] = ADNI_NC['AGE'] + ADNI_NC['Years_bl2']\n",
    "ADNI_Info = pd.concat([ADNI_AD,ADNI_MCI,ADNI_NC])\n",
    "\n",
    "MCAD_AD = pd.read_excel('E:/brain/subtype/src/mcad_info_687_del670.xlsx')\n",
    "MCAD_TIVs = pd.read_excel('E:/brain/subtype/src/mcad_info_687_del670.xlsx',sheet_name='tiv')\n",
    "MCAD_CTs = pd.read_excel('E:/brain/subtype/src/mcad_info_687_del670.xlsx',sheet_name='surf')\n",
    "GMV_Info = pd.read_csv('D:/DATA/all_info.csv')\n",
    "ADNI_GMV_Path = 'D:/DATA/ADNI/ROI_GMV/'\n",
    "BN_atlas = 'E:/brain/BNatlas/BN_Atlas_274_combined_1mm.nii'"
   ]
  },
  {
   "cell_type": "code",
   "execution_count": 76,
   "id": "e5d8b345-4c05-4d42-b253-3864583b1583",
   "metadata": {},
   "outputs": [
    {
     "data": {
      "text/html": [
       "<div>\n",
       "<style scoped>\n",
       "    .dataframe tbody tr th:only-of-type {\n",
       "        vertical-align: middle;\n",
       "    }\n",
       "\n",
       "    .dataframe tbody tr th {\n",
       "        vertical-align: top;\n",
       "    }\n",
       "\n",
       "    .dataframe thead th {\n",
       "        text-align: right;\n",
       "    }\n",
       "</style>\n",
       "<table border=\"1\" class=\"dataframe\">\n",
       "  <thead>\n",
       "    <tr style=\"text-align: right;\">\n",
       "      <th></th>\n",
       "      <th>Unnamed: 0</th>\n",
       "      <th>PTID</th>\n",
       "      <th>DATE</th>\n",
       "      <th>COLPROT_x</th>\n",
       "      <th>PATH</th>\n",
       "      <th>VISCODE2</th>\n",
       "      <th>TR</th>\n",
       "      <th>SLICEORDER</th>\n",
       "      <th>NSLICE</th>\n",
       "      <th>MANUFACTURER</th>\n",
       "      <th>...</th>\n",
       "      <th>GMV</th>\n",
       "      <th>WMV</th>\n",
       "      <th>NewVis_AV45</th>\n",
       "      <th>NewVis_ABETA</th>\n",
       "      <th>Positive</th>\n",
       "      <th>Unnamed: 0.1</th>\n",
       "      <th>Unnamed: 0.1.1</th>\n",
       "      <th>Unnamed: 0.1.1.1</th>\n",
       "      <th>Unnamed: 0.1.1.1.1</th>\n",
       "      <th>Unnamed: 0.1.1.1.1.1</th>\n",
       "    </tr>\n",
       "    <tr>\n",
       "      <th>DX</th>\n",
       "      <th></th>\n",
       "      <th></th>\n",
       "      <th></th>\n",
       "      <th></th>\n",
       "      <th></th>\n",
       "      <th></th>\n",
       "      <th></th>\n",
       "      <th></th>\n",
       "      <th></th>\n",
       "      <th></th>\n",
       "      <th></th>\n",
       "      <th></th>\n",
       "      <th></th>\n",
       "      <th></th>\n",
       "      <th></th>\n",
       "      <th></th>\n",
       "      <th></th>\n",
       "      <th></th>\n",
       "      <th></th>\n",
       "      <th></th>\n",
       "      <th></th>\n",
       "    </tr>\n",
       "  </thead>\n",
       "  <tbody>\n",
       "    <tr>\n",
       "      <th>CN</th>\n",
       "      <td>116</td>\n",
       "      <td>116</td>\n",
       "      <td>114</td>\n",
       "      <td>112</td>\n",
       "      <td>114</td>\n",
       "      <td>114</td>\n",
       "      <td>112</td>\n",
       "      <td>114</td>\n",
       "      <td>114</td>\n",
       "      <td>112</td>\n",
       "      <td>...</td>\n",
       "      <td>0</td>\n",
       "      <td>0</td>\n",
       "      <td>116</td>\n",
       "      <td>116</td>\n",
       "      <td>116</td>\n",
       "      <td>116</td>\n",
       "      <td>116</td>\n",
       "      <td>116</td>\n",
       "      <td>116</td>\n",
       "      <td>116</td>\n",
       "    </tr>\n",
       "    <tr>\n",
       "      <th>Dementia</th>\n",
       "      <td>82</td>\n",
       "      <td>82</td>\n",
       "      <td>51</td>\n",
       "      <td>51</td>\n",
       "      <td>51</td>\n",
       "      <td>51</td>\n",
       "      <td>51</td>\n",
       "      <td>51</td>\n",
       "      <td>51</td>\n",
       "      <td>51</td>\n",
       "      <td>...</td>\n",
       "      <td>82</td>\n",
       "      <td>82</td>\n",
       "      <td>82</td>\n",
       "      <td>82</td>\n",
       "      <td>82</td>\n",
       "      <td>0</td>\n",
       "      <td>0</td>\n",
       "      <td>0</td>\n",
       "      <td>0</td>\n",
       "      <td>0</td>\n",
       "    </tr>\n",
       "    <tr>\n",
       "      <th>MCI</th>\n",
       "      <td>0</td>\n",
       "      <td>93</td>\n",
       "      <td>89</td>\n",
       "      <td>89</td>\n",
       "      <td>89</td>\n",
       "      <td>89</td>\n",
       "      <td>89</td>\n",
       "      <td>89</td>\n",
       "      <td>89</td>\n",
       "      <td>89</td>\n",
       "      <td>...</td>\n",
       "      <td>0</td>\n",
       "      <td>0</td>\n",
       "      <td>93</td>\n",
       "      <td>93</td>\n",
       "      <td>93</td>\n",
       "      <td>0</td>\n",
       "      <td>0</td>\n",
       "      <td>0</td>\n",
       "      <td>0</td>\n",
       "      <td>0</td>\n",
       "    </tr>\n",
       "  </tbody>\n",
       "</table>\n",
       "<p>3 rows × 153 columns</p>\n",
       "</div>"
      ],
      "text/plain": [
       "          Unnamed: 0  PTID  DATE  COLPROT_x  PATH  VISCODE2   TR  SLICEORDER  \\\n",
       "DX                                                                             \n",
       "CN               116   116   114        112   114       114  112         114   \n",
       "Dementia          82    82    51         51    51        51   51          51   \n",
       "MCI                0    93    89         89    89        89   89          89   \n",
       "\n",
       "          NSLICE  MANUFACTURER  ...  GMV  WMV  NewVis_AV45  NewVis_ABETA  \\\n",
       "DX                              ...                                        \n",
       "CN           114           112  ...    0    0          116           116   \n",
       "Dementia      51            51  ...   82   82           82            82   \n",
       "MCI           89            89  ...    0    0           93            93   \n",
       "\n",
       "          Positive  Unnamed: 0.1  Unnamed: 0.1.1  Unnamed: 0.1.1.1  \\\n",
       "DX                                                                   \n",
       "CN             116           116             116               116   \n",
       "Dementia        82             0               0                 0   \n",
       "MCI             93             0               0                 0   \n",
       "\n",
       "          Unnamed: 0.1.1.1.1  Unnamed: 0.1.1.1.1.1  \n",
       "DX                                                  \n",
       "CN                       116                   116  \n",
       "Dementia                   0                     0  \n",
       "MCI                        0                     0  \n",
       "\n",
       "[3 rows x 153 columns]"
      ]
     },
     "execution_count": 76,
     "metadata": {},
     "output_type": "execute_result"
    }
   ],
   "source": [
    "ADNI_Info.groupby('DX').mean()"
   ]
  },
  {
   "cell_type": "code",
   "execution_count": 109,
   "id": "c4b66bc8-73ea-4cd1-9d4b-13c3ac8f26ea",
   "metadata": {},
   "outputs": [],
   "source": [
    "ADNI_MCI = pd.read_csv('E:/brain/subtype/src/table/MCI_ABETA_cluster.csv')"
   ]
  },
  {
   "cell_type": "code",
   "execution_count": 128,
   "id": "2b4da55a-a2bc-40ad-b72f-87a6366204f5",
   "metadata": {},
   "outputs": [
    {
     "data": {
      "text/html": [
       "<div>\n",
       "<style scoped>\n",
       "    .dataframe tbody tr th:only-of-type {\n",
       "        vertical-align: middle;\n",
       "    }\n",
       "\n",
       "    .dataframe tbody tr th {\n",
       "        vertical-align: top;\n",
       "    }\n",
       "\n",
       "    .dataframe thead th {\n",
       "        text-align: right;\n",
       "    }\n",
       "</style>\n",
       "<table border=\"1\" class=\"dataframe\">\n",
       "  <thead>\n",
       "    <tr style=\"text-align: right;\">\n",
       "      <th></th>\n",
       "      <th>AGE2</th>\n",
       "      <th>MMSE</th>\n",
       "      <th>cluster</th>\n",
       "    </tr>\n",
       "    <tr>\n",
       "      <th>DX</th>\n",
       "      <th></th>\n",
       "      <th></th>\n",
       "      <th></th>\n",
       "    </tr>\n",
       "  </thead>\n",
       "  <tbody>\n",
       "    <tr>\n",
       "      <th>CN</th>\n",
       "      <td>7.008320</td>\n",
       "      <td>1.099684</td>\n",
       "      <td>NaN</td>\n",
       "    </tr>\n",
       "    <tr>\n",
       "      <th>Dementia</th>\n",
       "      <td>8.782646</td>\n",
       "      <td>3.770218</td>\n",
       "      <td>1.074253</td>\n",
       "    </tr>\n",
       "    <tr>\n",
       "      <th>MCI</th>\n",
       "      <td>7.698622</td>\n",
       "      <td>1.853506</td>\n",
       "      <td>NaN</td>\n",
       "    </tr>\n",
       "  </tbody>\n",
       "</table>\n",
       "</div>"
      ],
      "text/plain": [
       "              AGE2      MMSE   cluster\n",
       "DX                                    \n",
       "CN        7.008320  1.099684       NaN\n",
       "Dementia  8.782646  3.770218  1.074253\n",
       "MCI       7.698622  1.853506       NaN"
      ]
     },
     "execution_count": 128,
     "metadata": {},
     "output_type": "execute_result"
    }
   ],
   "source": [
    "ADNI_Info.loc[:,['PTID','AGE2','PTGENDER','MMSE','cluster','DX']].groupby(['DX']).std()"
   ]
  },
  {
   "cell_type": "code",
   "execution_count": 115,
   "id": "8bb78439-907e-41fe-8559-cc23bd240c1a",
   "metadata": {},
   "outputs": [],
   "source": [
    "import statsmodels.formula.api as smi"
   ]
  },
  {
   "cell_type": "code",
   "execution_count": 129,
   "id": "1e246603-6db5-413b-bd38-9bc71c906dfd",
   "metadata": {},
   "outputs": [
    {
     "data": {
      "text/html": [
       "<table class=\"simpletable\">\n",
       "<caption>OLS Regression Results</caption>\n",
       "<tr>\n",
       "  <th>Dep. Variable:</th>          <td>MMSE</td>       <th>  R-squared:         </th> <td>   0.588</td>\n",
       "</tr>\n",
       "<tr>\n",
       "  <th>Model:</th>                   <td>OLS</td>       <th>  Adj. R-squared:    </th> <td>   0.585</td>\n",
       "</tr>\n",
       "<tr>\n",
       "  <th>Method:</th>             <td>Least Squares</td>  <th>  F-statistic:       </th> <td>   204.5</td>\n",
       "</tr>\n",
       "<tr>\n",
       "  <th>Date:</th>             <td>Fri, 16 Jul 2021</td> <th>  Prob (F-statistic):</th> <td>6.07e-56</td>\n",
       "</tr>\n",
       "<tr>\n",
       "  <th>Time:</th>                 <td>10:28:19</td>     <th>  Log-Likelihood:    </th> <td> -659.61</td>\n",
       "</tr>\n",
       "<tr>\n",
       "  <th>No. Observations:</th>      <td>   290</td>      <th>  AIC:               </th> <td>   1325.</td>\n",
       "</tr>\n",
       "<tr>\n",
       "  <th>Df Residuals:</th>          <td>   287</td>      <th>  BIC:               </th> <td>   1336.</td>\n",
       "</tr>\n",
       "<tr>\n",
       "  <th>Df Model:</th>              <td>     2</td>      <th>                     </th>     <td> </td>   \n",
       "</tr>\n",
       "<tr>\n",
       "  <th>Covariance Type:</th>      <td>nonrobust</td>    <th>                     </th>     <td> </td>   \n",
       "</tr>\n",
       "</table>\n",
       "<table class=\"simpletable\">\n",
       "<tr>\n",
       "         <td></td>           <th>coef</th>     <th>std err</th>      <th>t</th>      <th>P>|t|</th>  <th>[0.025</th>    <th>0.975]</th>  \n",
       "</tr>\n",
       "<tr>\n",
       "  <th>Intercept</th>      <td>   29.0348</td> <td>    0.221</td> <td>  131.653</td> <td> 0.000</td> <td>   28.601</td> <td>   29.469</td>\n",
       "</tr>\n",
       "<tr>\n",
       "  <th>DX[T.Dementia]</th> <td>   -6.7299</td> <td>    0.342</td> <td>  -19.688</td> <td> 0.000</td> <td>   -7.403</td> <td>   -6.057</td>\n",
       "</tr>\n",
       "<tr>\n",
       "  <th>DX[T.MCI]</th>      <td>   -1.4219</td> <td>    0.330</td> <td>   -4.311</td> <td> 0.000</td> <td>   -2.071</td> <td>   -0.773</td>\n",
       "</tr>\n",
       "</table>\n",
       "<table class=\"simpletable\">\n",
       "<tr>\n",
       "  <th>Omnibus:</th>       <td>77.034</td> <th>  Durbin-Watson:     </th> <td>   1.760</td>\n",
       "</tr>\n",
       "<tr>\n",
       "  <th>Prob(Omnibus):</th> <td> 0.000</td> <th>  Jarque-Bera (JB):  </th> <td> 348.117</td>\n",
       "</tr>\n",
       "<tr>\n",
       "  <th>Skew:</th>          <td>-1.016</td> <th>  Prob(JB):          </th> <td>2.56e-76</td>\n",
       "</tr>\n",
       "<tr>\n",
       "  <th>Kurtosis:</th>      <td> 7.968</td> <th>  Cond. No.          </th> <td>    3.48</td>\n",
       "</tr>\n",
       "</table><br/><br/>Notes:<br/>[1] Standard Errors assume that the covariance matrix of the errors is correctly specified."
      ],
      "text/plain": [
       "<class 'statsmodels.iolib.summary.Summary'>\n",
       "\"\"\"\n",
       "                            OLS Regression Results                            \n",
       "==============================================================================\n",
       "Dep. Variable:                   MMSE   R-squared:                       0.588\n",
       "Model:                            OLS   Adj. R-squared:                  0.585\n",
       "Method:                 Least Squares   F-statistic:                     204.5\n",
       "Date:                Fri, 16 Jul 2021   Prob (F-statistic):           6.07e-56\n",
       "Time:                        10:28:19   Log-Likelihood:                -659.61\n",
       "No. Observations:                 290   AIC:                             1325.\n",
       "Df Residuals:                     287   BIC:                             1336.\n",
       "Df Model:                           2                                         \n",
       "Covariance Type:            nonrobust                                         \n",
       "==================================================================================\n",
       "                     coef    std err          t      P>|t|      [0.025      0.975]\n",
       "----------------------------------------------------------------------------------\n",
       "Intercept         29.0348      0.221    131.653      0.000      28.601      29.469\n",
       "DX[T.Dementia]    -6.7299      0.342    -19.688      0.000      -7.403      -6.057\n",
       "DX[T.MCI]         -1.4219      0.330     -4.311      0.000      -2.071      -0.773\n",
       "==============================================================================\n",
       "Omnibus:                       77.034   Durbin-Watson:                   1.760\n",
       "Prob(Omnibus):                  0.000   Jarque-Bera (JB):              348.117\n",
       "Skew:                          -1.016   Prob(JB):                     2.56e-76\n",
       "Kurtosis:                       7.968   Cond. No.                         3.48\n",
       "==============================================================================\n",
       "\n",
       "Notes:\n",
       "[1] Standard Errors assume that the covariance matrix of the errors is correctly specified.\n",
       "\"\"\""
      ]
     },
     "execution_count": 129,
     "metadata": {},
     "output_type": "execute_result"
    }
   ],
   "source": [
    "smi.ols('MMSE ~ DX',data=ADNI_Info).fit().summary()"
   ]
  },
  {
   "cell_type": "code",
   "execution_count": 32,
   "id": "1b68ed7a-d707-4d58-91d9-793c0b1d00ab",
   "metadata": {},
   "outputs": [],
   "source": [
    "for index,row in ADNI_Info.iterrows():\n",
    "    if(pd.isna(row['COLPROT_x'])):\n",
    "        if(row['VISCODE3']=='bl'):\n",
    "            ADNI_Info.loc[index,'COLPROT_x'] = row['ORIGPROT']\n",
    "        else:\n",
    "            ADNI_Info.loc[index,'COLPROT_x'] = 'ADNI3'\n",
    "            "
   ]
  },
  {
   "cell_type": "code",
   "execution_count": 14,
   "id": "126a5910-9dcf-4768-8691-8aa5fcbec3a2",
   "metadata": {},
   "outputs": [],
   "source": [
    "ADNI_GMV_Data = np.zeros([ADNI_Info.shape[0],274])\n",
    "TIVs = np.zeros([ADNI_Info.shape[0]])\n",
    "i=0\n",
    "for index,row in ADNI_Info.iterrows():\n",
    "    path = glob.glob('D:/DATA/ADNI/ADNI_T1/mri/smwp1*'+row['PTID']+'*.nii')\n",
    "    if(len(path)!=0):\n",
    "        ADNI_GMV_Data[i,:] = extractMean([path[0]],BN_atlas)\n",
    "        reportPath = glob.glob('D:/DATA/ADNI/ADNI_T1/report/cat*'+row['PTID']+'*.mat')[0]\n",
    "        TIVs[i],*_ = extractTIV(reportPath)\n",
    "    else:\n",
    "        path = ADNI_GMV_Path+row['COLPROT_x']+'/'+row['PTID']+'.csv'\n",
    "        if not os.path.exists(path):\n",
    "            path = glob.glob(ADNI_GMV_Path+'*'+'/'+row['PTID']+'.csv')\n",
    "            if(len(path)==0):\n",
    "                print(row['PTID'],row['VISCODE3'],row['DATE'])\n",
    "                continue\n",
    "            else:\n",
    "                path = path[0]\n",
    "        ADNI_GMV_Data[i,:] = pd.read_csv(path)['mean'].values\n",
    "        TIVs[i]=GMV_Info.loc[GMV_Info['subject_name']==row['PTID'],'TIV'].values[0]\n",
    "    i+=1"
   ]
  },
  {
   "cell_type": "code",
   "execution_count": 15,
   "id": "2df24d33-ca82-4529-bfe6-17680ea24231",
   "metadata": {
    "tags": []
   },
   "outputs": [],
   "source": [
    "ADNI_CT_Path = 'D:/DATA/ADNI/ROI_CT/ADNI/'\n",
    "ADNI_CT_Data = np.zeros([ADNI_Info.shape[0],210])\n",
    "i=0\n",
    "for index,row in ADNI_Info.iterrows():\n",
    "    path = glob.glob('D:/DATA/ADNI/ADNI_T1/mri/smwp1*'+row['PTID']+'*.nii')\n",
    "    if(len(path)!=0):\n",
    "        reportPath = glob.glob('D:/DATA/ADNI/ADNI_T1/label/cat*'+row['PTID']+'*.mat')[0]\n",
    "        ADNI_CT_Data[i,:] = extractCT(reportPath)\n",
    "    else:\n",
    "        path = ADNI_CT_Path+row['COLPROT_x']+'/'+row['PTID']+'.csv'\n",
    "        if not os.path.exists(path):\n",
    "            path = glob.glob(ADNI_CT_Path+'*'+'/'+row['PTID']+'.csv')\n",
    "            if(len(path)==0):\n",
    "                print(ADNI_CT_Path+'*'+'/'+row['PTID']+'.csv')\n",
    "                print(row['PTID'],row['VISCODE3'],row['DATE'],row['COLPROT_x'])\n",
    "                continue\n",
    "            else:\n",
    "                path = path[0]\n",
    "        ADNI_CT_Data[i,:] = pd.read_csv(path)['CT'].values\n",
    "    i+=1"
   ]
  },
  {
   "cell_type": "code",
   "execution_count": 33,
   "id": "7a2aee7f-d34e-4246-bf7e-ccf7de2f4527",
   "metadata": {},
   "outputs": [],
   "source": [
    "def changeName(x):\n",
    "    if(x=='CN'):\n",
    "        return 1\n",
    "    elif(x=='MCI'):\n",
    "        return 2\n",
    "    elif(x=='Dementia'):\n",
    "        return 3"
   ]
  },
  {
   "cell_type": "code",
   "execution_count": 34,
   "id": "9656c90e-8c7e-445e-b5fa-fd45728b5a2a",
   "metadata": {},
   "outputs": [],
   "source": [
    "infoTable = pd.DataFrame(columns=['AGE','GENDER','batch','GROUP'])\n",
    "infoTable[['AGE','GENDER','batch','GROUP']] = ADNI_Info.loc[:,['AGE2','PTGENDER2','SITE','DX']]\n",
    "infoTable['GROUP']=infoTable['GROUP'].apply(changeName)\n",
    "infoTable['batch'] = infoTable['batch'].astype('object')\n",
    "infoTable['batch'] = infoTable['batch'].apply(lambda x:'ADNI'+str(x))\n",
    "infoTable['TIV'] = TIVs"
   ]
  },
  {
   "cell_type": "code",
   "execution_count": 26,
   "id": "63dcb597-4de7-409f-ab0b-3477f1f485d7",
   "metadata": {},
   "outputs": [],
   "source": [
    "MCAD_GMV_Paths = [\"D:\\DATA\\MCAD\\ROI_GMV\\AD_S03\",\"D:\\DATA\\MCAD\\ROI_GMV\\AD_S02\",\"D:\\DATA\\MCAD\\ROI_GMV\\AD_S01\",\n",
    "                  \"D:\\DATA\\MCAD\\ROI_GMV\\AD_S04\",\"D:\\DATA\\MCAD\\ROI_GMV\\AD_S05\",\"D:\\DATA\\MCAD\\ROI_GMV\\AD_S06\",\n",
    "                  \"D:\\DATA\\MCAD\\ROI_GMV\\AD_S07\"]"
   ]
  },
  {
   "cell_type": "code",
   "execution_count": 27,
   "id": "4ec45a20-e64e-4b64-a641-38bbd492d1f7",
   "metadata": {},
   "outputs": [],
   "source": [
    "MCAD_GMV_Data = np.zeros([MCAD_AD.shape[0],274])\n",
    "i=0\n",
    "groupName = {1:'NC',2:'MC',3:'AD'}\n",
    "absentData = pd.DataFrame()\n",
    "for index,row in MCAD_AD.iterrows():\n",
    "    MCAD_GMV_Path = MCAD_GMV_Paths[int(row['center'])-1]\n",
    "    path =  r\"D:\\DATA\\MCAD\\ROI_GMV/\"+'smwp1'+row['Subj_fmri']+'.nii'\n",
    "    if(row['center']==4):\n",
    "        if(os.path.exists(path)):\n",
    "            MCAD_GMV_Data[i,:] = extractMean([path],BN_atlas)\n",
    "            i+=1\n",
    "            continue\n",
    "    csv_path = MCAD_GMV_Path+'/'+row['Subj_fmri']+'.csv'\n",
    "    if(row['center']==1):\n",
    "        csv_path = MCAD_GMV_Path+'/'+str(row['Group'])+'_'+groupName[row['Group']]+row['Subj_fmri'][-3:]+'.csv'\n",
    "    if(row['center']==5):\n",
    "        csv_path = MCAD_GMV_Path+'/'+row['Subj_fmri'][2:]+'.csv'\n",
    "    if(row['center']==6):\n",
    "        csv_path = MCAD_GMV_Path+'/'+str(row['Group'])+'_'+groupName[row['Group']]+row['Subj_fmri'][-3:]+'.csv'\n",
    "    if(not os.path.exists(csv_path)):\n",
    "        path =  r\"D:\\DATA\\MCAD\\ROI_GMV/\"+'smwp1'+row['Subj_fmri']+'.nii'\n",
    "        MCAD_GMV_Data[i,:] = extractMean([path],BN_atlas)\n",
    "        #print(row['Subj_fmri'])\n",
    "        i+=1\n",
    "        continue\n",
    "    MCAD_GMV_Data[i,:] = pd.read_csv(csv_path)['mean'].values\n",
    "    i+=1"
   ]
  },
  {
   "cell_type": "code",
   "execution_count": 31,
   "id": "edf1f429-8c45-4c48-9da1-628aef64f9b1",
   "metadata": {},
   "outputs": [],
   "source": [
    "MCAD_Combat_Info = pd.DataFrame(columns=infoTable.columns)\n",
    "MCAD_Combat_Info['AGE'] = MCAD_AD['Age']\n",
    "MCAD_Combat_Info['GENDER'] = MCAD_AD['Gender']\n",
    "MCAD_Combat_Info['batch'] = MCAD_AD['center'].apply(lambda x: 'MCAD'+str(x))\n",
    "MCAD_Combat_Info['GROUP'] = MCAD_AD['Group']\n",
    "MCAD_Combat_Info['TIV'] = MCAD_TIVs['tiv']"
   ]
  },
  {
   "cell_type": "code",
   "execution_count": 35,
   "id": "4bd64898-6ca0-4d44-aaf0-5881e7d55209",
   "metadata": {},
   "outputs": [],
   "source": [
    "All_Combat_Info = pd.concat([infoTable,MCAD_Combat_Info])\n",
    "All_GMV = np.vstack([ADNI_GMV_Data,MCAD_GMV_Data])"
   ]
  },
  {
   "cell_type": "code",
   "execution_count": 181,
   "id": "2a294c3d-9c95-4dc9-b61b-34520494bde7",
   "metadata": {},
   "outputs": [],
   "source": [
    "All_CT = np.vstack([ADNI_CT_Data,MCAD_CTs])\n",
    "pd.DataFrame(All_CT.T,index=None).to_csv('ADATA/All_CT.csv',index=None)"
   ]
  },
  {
   "cell_type": "code",
   "execution_count": 136,
   "id": "c4c4e7ef-2011-4b4e-a570-4f2200931adf",
   "metadata": {},
   "outputs": [],
   "source": [
    "pd.DataFrame(All_GMV,index=None).to_csv('ADATA/All_GMV.csv',index=None)"
   ]
  },
  {
   "cell_type": "code",
   "execution_count": 135,
   "id": "ded1d5da-ca40-4434-af47-77dc98d4592c",
   "metadata": {},
   "outputs": [],
   "source": [
    "All_Combat_Info.to_csv('ADATA/All_Info.csv')"
   ]
  },
  {
   "cell_type": "code",
   "execution_count": 30,
   "id": "fe6c566e-5b56-407e-989d-02c92b783637",
   "metadata": {},
   "outputs": [],
   "source": [
    "All_Combat_Info = pd.read_csv('ADATA/All_Info.csv')"
   ]
  },
  {
   "cell_type": "code",
   "execution_count": 8,
   "id": "851e2ce7-3717-46b5-b452-902477d77b9a",
   "metadata": {},
   "outputs": [],
   "source": [
    "CombatData = np.loadtxt('E:/brain/subtype/src/ADATA/GMV_Combat.txt')"
   ]
  },
  {
   "cell_type": "code",
   "execution_count": 9,
   "id": "2cab23ec-fca9-4d6c-9be7-e2f11924ae21",
   "metadata": {},
   "outputs": [],
   "source": [
    "CombatCT = np.loadtxt('E:/brain/subtype/src/ADATA/CT_Combat.txt').T"
   ]
  },
  {
   "cell_type": "code",
   "execution_count": 187,
   "id": "8c7dfa78-aa5a-48e0-a43a-3c45ddbc173d",
   "metadata": {},
   "outputs": [
    {
     "data": {
      "text/plain": [
       "(274, 1100)"
      ]
     },
     "execution_count": 187,
     "metadata": {},
     "output_type": "execute_result"
    }
   ],
   "source": [
    "CombatData.shape"
   ]
  },
  {
   "cell_type": "code",
   "execution_count": 36,
   "id": "4c63709c-0d20-489a-bac3-b67c7082aa8c",
   "metadata": {},
   "outputs": [],
   "source": [
    "H_PATH = \"data/MCAD_H_Combat.txt\"\n",
    "H = np.loadtxt(H_PATH)\n",
    "MCAD_Cluster = np.argmin(H, axis=0)\n",
    "ADNI_Cluster = pd.read_csv('E:/brain/subtype/src/table/AD_ABETA_cluster.csv')['cluster'].values\n",
    "AD_Cluster = np.hstack([ADNI_Cluster,MCAD_Cluster])"
   ]
  },
  {
   "cell_type": "code",
   "execution_count": 94,
   "id": "72b74f8d-3715-49af-9657-0eacbad84ec6",
   "metadata": {},
   "outputs": [],
   "source": [
    "Reg_Combat_Data = np.zeros_like(CombatData.T[All_Combat_Info['GROUP']!=2])"
   ]
  },
  {
   "cell_type": "code",
   "execution_count": 95,
   "id": "7e5c9fb7-5817-44ce-a9a7-fc9c8d81a0ed",
   "metadata": {},
   "outputs": [],
   "source": [
    "Reg_Combat_CT = np.zeros_like(CombatCT[All_Combat_Info['GROUP']!=2])\n",
    "AD_NC_Info = All_Combat_Info[All_Combat_Info['GROUP']!=2]\n",
    "AD_NC_GMV = CombatData.T[All_Combat_Info['GROUP']!=2]\n",
    "AD_NC_CT = CombatCT[All_Combat_Info['GROUP']!=2]"
   ]
  },
  {
   "cell_type": "code",
   "execution_count": 96,
   "id": "dcd78cf3-39f4-4b50-bdf5-fda0d5d0636d",
   "metadata": {},
   "outputs": [],
   "source": [
    "Reg_Combat_Data = np.zeros_like(CombatData.T)\n",
    "Reg_Combat_CT = np.zeros_like(CombatCT)\n",
    "AD_NC_Info = All_Combat_Info\n",
    "AD_NC_GMV = CombatData.T\n",
    "AD_NC_CT = CombatCT"
   ]
  },
  {
   "cell_type": "code",
   "execution_count": 40,
   "id": "16c3dbb9-078d-42a9-b24d-1ca047d3e105",
   "metadata": {},
   "outputs": [],
   "source": []
  },
  {
   "cell_type": "code",
   "execution_count": 97,
   "id": "77eee013-4a59-4b19-97a0-6fea4fb7e3bf",
   "metadata": {},
   "outputs": [],
   "source": [
    "for i in range(263):\n",
    "    AD_NC_Info.loc[:,'GMV'] = AD_NC_GMV[:,i]\n",
    "    res = smf.ols('GMV~AGE+GENDER+TIV',data=AD_NC_Info).fit()\n",
    "    Reg_Combat_Data[:,i] = res.resid\n",
    "for i in range(210):\n",
    "    AD_NC_Info.loc[:,'CT'] = AD_NC_CT[:,i]\n",
    "    res = smf.ols('CT~AGE+GENDER+TIV',data=AD_NC_Info).fit()\n",
    "    Reg_Combat_CT[:,i] = res.resid"
   ]
  },
  {
   "cell_type": "code",
   "execution_count": 98,
   "id": "6ba095b7-1bea-4b2a-be50-853223849f6d",
   "metadata": {},
   "outputs": [],
   "source": [
    "AD_GMV = Reg_Combat_Data[AD_NC_Info['GROUP']==3]\n",
    "NC_GMV = Reg_Combat_Data[AD_NC_Info['GROUP']==1]\n",
    "AD_CT = Reg_Combat_CT[AD_NC_Info['GROUP']==3]\n",
    "NC_CT = Reg_Combat_CT[AD_NC_Info['GROUP']==1]\n"
   ]
  },
  {
   "cell_type": "code",
   "execution_count": 43,
   "id": "bd1beb59-5000-4cb2-9614-001a129f1a7d",
   "metadata": {},
   "outputs": [],
   "source": [
    "pcmap2 = sns.color_palette('flare', as_cmap=True)\n",
    "pcmap = sns.color_palette('Oranges', as_cmap=True)\n",
    "ncmap = sns.color_palette('Blues_r', as_cmap=True)"
   ]
  },
  {
   "cell_type": "markdown",
   "id": "496cd3e4-4bdc-43d3-8c65-e90672c7ba9d",
   "metadata": {},
   "source": [
    "Subtype & NC"
   ]
  },
  {
   "cell_type": "code",
   "execution_count": 60,
   "id": "f824c138-5dd9-4812-b0f4-1016d041a085",
   "metadata": {},
   "outputs": [
    {
     "name": "stdout",
     "output_type": "stream",
     "text": [
      "Negative:\n",
      "min: -19.836258928693972 max: -3.795746369697711\n",
      "Negative:\n",
      "min: -23.658295090178935 max: -3.894332901244023\n",
      "Negative:\n",
      "min: -19.515582063509534 max: -3.7761115751656265\n",
      "Negative:\n",
      "min: -18.25056894805187 max: -3.7889248409957057\n"
     ]
    }
   ],
   "source": [
    "for i in range(4):\n",
    "    ts = []\n",
    "    ps = []\n",
    "    for j in range(263):\n",
    "        t,p,df =  ttest_ind(AD_GMV[AD_Cluster==i,j],NC_GMV[:,j])\n",
    "        ts.append(t)\n",
    "        ps.append(p)\n",
    "    _,fdr = fdrcorrection(ps)\n",
    "    \n",
    "    ts = np.array(ts)\n",
    "    ps = np.array(ps)\n",
    "    #ts[fdr>0.05]=0\n",
    "    ts[ps*263>0.05]=0\n",
    "    res = mappingParcellToVolume(ts,BN_atlas)\n",
    "    #res.to_filename('DrawGMV/Subtype%d_VS_NC_FWE_0.053.nii' % i)\n",
    "    GMV_MappingAtlas([res],pos_max=13, pos_min=3, neg_max=-3.8, neg_min=-22, pcmap=ncmap, ncmap=ncmap,nii_path='E:/brain/BNatlas/BN_Atlas_274_combined_1mm.nii',savePath='DrawGMV',saveName='Subtype%d_VS_NC_FWE' % i,MAX=True)"
   ]
  },
  {
   "cell_type": "markdown",
   "id": "7f187223-367f-4d0a-b360-959a5c88d5dd",
   "metadata": {},
   "source": [
    "GMV subtype paired"
   ]
  },
  {
   "cell_type": "code",
   "execution_count": 218,
   "id": "4d3a74a4-0528-47f6-aa12-bdf0225dd9a1",
   "metadata": {},
   "outputs": [
    {
     "name": "stdout",
     "output_type": "stream",
     "text": [
      "Postive:\n",
      "min: 1.9754686523879814 max: 5.23936409210144\n",
      "Postive:\n",
      "min: 1.9765375745502447 max: 5.357609099131073\n",
      "Postive:\n",
      "min: 1.9814738125192906 max: 4.667594781449504\n",
      "Negative:\n",
      "min: -2.7762528535956403 max: -2.7762528535956403\n",
      "Postive:\n",
      "min: 2.105448215864858 max: 3.2398733446339434\n",
      "Negative:\n",
      "min: -3.0612232822054146 max: -2.025512119655949\n",
      "Postive:\n",
      "min: 2.193375711998861 max: 2.193375711998861\n",
      "Negative:\n",
      "min: -3.073473535838417 max: -1.9802668508887509\n",
      "Postive:\n",
      "min: 2.0071511396477013 max: 3.1857595010799935\n",
      "Negative:\n",
      "min: -2.6690405811023457 max: -2.0364847120425345\n"
     ]
    }
   ],
   "source": [
    "for i in range(3):\n",
    "    for k in range(i+1,4):\n",
    "        ts = []\n",
    "        ps = []\n",
    "        for j in range(263):\n",
    "            t,p,df =  ttest_ind(AD_GMV[AD_Cluster==i,j],AD_GMV[AD_Cluster==k,j])\n",
    "            ts.append(t)\n",
    "            ps.append(p)\n",
    "        _,fdr = fdrcorrection(ps)\n",
    "        ts = np.array(ts)\n",
    "        ps = np.array(ps)\n",
    "        ts[ps>0.05]=0\n",
    "        res = mappingParcellToVolume(ts,BN_atlas)\n",
    "        res.to_filename('DrawGMV/Subtype%d_VS_Subtype%d.nii' % (i+1,k+1))\n",
    "        GMV_MappingAtlas([res],pos_max=5, pos_min=0.01, neg_max=0.01, neg_min=-4, pcmap=pcmap, ncmap=ncmap,nii_path='E:/brain/BNatlas/BN_Atlas_274_combined_1mm.nii',savePath='DrawGMV',saveName='Subtype%d_VS_Subtype%d' % (i+1,k+1),MAX=True)"
   ]
  },
  {
   "cell_type": "markdown",
   "id": "5f503991-7fde-4045-ba87-fb58680ed335",
   "metadata": {},
   "source": [
    "## GMV Subtype & Others"
   ]
  },
  {
   "cell_type": "code",
   "execution_count": null,
   "id": "637d0b29-da74-45eb-b00a-59dc82120d30",
   "metadata": {},
   "outputs": [],
   "source": [
    "for k in range(4):\n",
    "        ts = []\n",
    "        ps = []\n",
    "        for j in range(263):\n",
    "            t,p,df =  ttest_ind(AD_GMV[AD_Cluster==k,j],AD_GMV[AD_Cluster!=k,j])\n",
    "            ts.append(t)\n",
    "            ps.append(p)\n",
    "        _,fdr = fdrcorrection(ps)\n",
    "        ts = np.array(ts)\n",
    "        ts[fdr>0.05]=0\n",
    "        res = mappingParcellToVolume(ts,BN_atlas)\n",
    "        res.to_filename('DrawGMV/Subtype%d_VS_Other_fdr.nii' % (k+1))\n",
    "        GMV_MappingAtlas([res],pos_max=5, pos_min=0.01, neg_max=0.01, neg_min=-4, pcmap=pcmap, ncmap=ncmap,nii_path='E:/brain/BNatlas/BN_Atlas_274_combined_1mm.nii',savePath='DrawGMV',saveName='Subtype%d_VS_Other_fdr' % (k+1),MAX=True)"
   ]
  },
  {
   "cell_type": "markdown",
   "id": "4f1af1f6-65ae-4ed7-a196-212b88b469a7",
   "metadata": {},
   "source": [
    "## GMV ANOVA "
   ]
  },
  {
   "cell_type": "code",
   "execution_count": 209,
   "id": "dc277e85-71ed-4251-854d-a728f73f4c4b",
   "metadata": {},
   "outputs": [],
   "source": [
    "ts = []\n",
    "ps = []\n",
    "for j in range(263):\n",
    "    f,p =  f_oneway(AD_GMV[AD_Cluster==0,j],AD_GMV[AD_Cluster==1,j],AD_GMV[AD_Cluster==2,j],AD_GMV[AD_Cluster==3,j])\n",
    "    ts.append(t)\n",
    "    ps.append(p)\n",
    "_,fdr = fdrcorrection(ps)\n",
    "ts = np.array(ts)\n",
    "ts[fdr>0.05]=0\n",
    "res = mappingParcellToVolume(ts,BN_atlas)\n",
    "res.to_filename('DrawGMV/SubtypeANOVA_GMV.nii')"
   ]
  },
  {
   "cell_type": "markdown",
   "id": "cd967834-7090-4076-aa74-42987a52cdd0",
   "metadata": {},
   "source": [
    "## CT"
   ]
  },
  {
   "cell_type": "code",
   "execution_count": 219,
   "id": "75444d31-3b1f-40e4-8c85-8a02fe3a31fc",
   "metadata": {},
   "outputs": [
    {
     "name": "stdout",
     "output_type": "stream",
     "text": [
      "Postive:\n",
      "min: 1.976962048283519 max: 4.544855693742333\n",
      "Postive:\n",
      "min: 1.972069122468523 max: 4.5608686250189185\n",
      "Negative:\n",
      "min: -2.627809475577879 max: -2.093653205082371\n",
      "Postive:\n",
      "min: 1.9916370984226046 max: 4.323194828264858\n",
      "Postive:\n",
      "min: 2.1448128514715528 max: 2.9237738341354635\n",
      "Negative:\n",
      "min: -4.468906159896056 max: -2.001011189049513\n",
      "Postive:\n",
      "min: 2.103973330671468 max: 2.642337178526412\n",
      "Negative:\n",
      "min: -2.333982383249559 max: -2.05063433019143\n",
      "Postive:\n",
      "min: 2.003767311311651 max: 2.949975476270186\n",
      "Negative:\n",
      "min: -2.823929559412122 max: -2.008143716494277\n"
     ]
    }
   ],
   "source": [
    "for i in range(3):\n",
    "    for k in range(i+1,4):\n",
    "        ts = []\n",
    "        ps = []\n",
    "        for j in range(210):\n",
    "            t,p,df =  ttest_ind(AD_CT[AD_Cluster==i,j],AD_CT[AD_Cluster==k,j])\n",
    "            ts.append(t)\n",
    "            ps.append(p)\n",
    "        _,fdr = fdrcorrection(ps)\n",
    "        ts = np.array(ts)\n",
    "        ps = np.array(ps)\n",
    "        ts[ps>0.05]=0\n",
    "        res = mappingParcellToVolume(ts,'E:/brain/BNatlas/BN_Atlas_210_1mm.nii')\n",
    "        res.to_filename('DrawGMV/CT_Subtype%d_VS_Subtype%d.nii' % (i+1,k+1))\n",
    "        GMV_MappingAtlas([res],pos_max=5, pos_min=0.01, neg_max=0.01, neg_min=-4, pcmap=pcmap, ncmap=ncmap,nii_path='E:/brain/BNatlas/BN_Atlas_210_1mm.nii',savePath='DrawGMV',saveName='CT_Subtype%d_VS_Subtype%d' % (i+1,k+1),MAX=True)"
   ]
  },
  {
   "cell_type": "code",
   "execution_count": 93,
   "id": "60b5ed1c-f15b-46aa-91b4-20b924ef638c",
   "metadata": {},
   "outputs": [
    {
     "name": "stdout",
     "output_type": "stream",
     "text": [
      "Postive:\n",
      "min: 1.9719173373640402 max: 5.032960049017115\n",
      "Negative:\n",
      "min: -3.9129405097322003 max: -1.9773483307603845\n",
      "Postive:\n",
      "min: 2.038493480979821 max: 4.00645902135886\n",
      "Negative:\n",
      "min: -3.3906825588610476 max: -1.981960683373094\n",
      "Negative:\n",
      "min: -3.2986078502394243 max: -2.001879361938175\n"
     ]
    }
   ],
   "source": [
    "for i in range(4):\n",
    "    ts = []\n",
    "    ps = []\n",
    "    for j in range(210):\n",
    "        t,p,df =  ttest_ind(AD_CT[AD_Cluster==i,j],AD_CT[AD_Cluster!=i,j])\n",
    "        ts.append(t)\n",
    "        ps.append(p)\n",
    "    _,fdr = fdrcorrection(ps)\n",
    "    ts = np.array(ts)\n",
    "    ps = np.array(ps)\n",
    "    ts[ps>0.05]=0\n",
    "    res = mappingParcellToVolume(ts,'E:/brain/BNatlas/BN_Atlas_210_1mm.nii')\n",
    "    res.to_filename('DrawGMV/CT_Subtype%d_VS_Other.nii' % (i+1))\n",
    "    GMV_MappingAtlas([res],pos_max=5, pos_min=0.01, neg_max=0.01, neg_min=-3.9, pcmap=pcmap, ncmap=ncmap,nii_path='E:/brain/BNatlas/BN_Atlas_210_1mm.nii',savePath='DrawGMV',saveName='CT_Subtype%d_VS_Other' % (i+1),MAX=True)"
   ]
  },
  {
   "cell_type": "code",
   "execution_count": 100,
   "id": "606015c2-a066-4057-9cc5-75ae05e32e07",
   "metadata": {},
   "outputs": [
    {
     "name": "stdout",
     "output_type": "stream",
     "text": [
      "Frontal~Subtype\n",
      "====================================================\n",
      "             df      sum_sq   mean_sq         F    PR(>F)\n",
      "Subtype     3.0   18.111355  6.037118  6.274495  0.000366\n",
      "Residual  373.0  358.888645  0.962168       NaN       NaN\n",
      "      Item         F         P    ST1-2T    ST1-2P    ST1-3T    ST1-3P  \\\n",
      "0  Frontal  6.274495  0.000366  3.893297  0.000129  3.355901  0.000947   \n",
      "\n",
      "     ST1-4T    ST1-4P    ST2-3T    ST2-3P    ST2-4T    ST2-4P    ST3-4T  \\\n",
      "0  2.423349  0.016421 -0.075208  0.940124 -0.522103  0.602263 -0.411401   \n",
      "\n",
      "     ST3-4P  \n",
      "0  0.681417  \n",
      "====================================================\n",
      "Temporal~Subtype\n",
      "====================================================\n",
      "             df      sum_sq   mean_sq          F    PR(>F)\n",
      "Subtype     3.0   28.460707  9.486902  10.152699  0.000002\n",
      "Residual  373.0  348.539293  0.934422        NaN       NaN\n",
      "       Item          F         P    ST1-2T    ST1-2P    ST1-3T    ST1-3P  \\\n",
      "0   Frontal   6.274495  0.000366  3.893297  0.000129  3.355901  0.000947   \n",
      "0  Temporal  10.152699  0.000002  5.021869  0.000001  3.821435  0.000177   \n",
      "\n",
      "     ST1-4T    ST1-4P    ST2-3T    ST2-3P    ST2-4T    ST2-4P    ST3-4T  \\\n",
      "0  2.423349  0.016421 -0.075208  0.940124 -0.522103  0.602263 -0.411401   \n",
      "0  4.064840  0.000073 -0.902450  0.367893 -0.035141  0.972007  0.718612   \n",
      "\n",
      "     ST3-4P  \n",
      "0  0.681417  \n",
      "0  0.473595  \n",
      "====================================================\n",
      "Parietal~Subtype\n",
      "====================================================\n",
      "             df      sum_sq   mean_sq         F    PR(>F)\n",
      "Subtype     3.0   18.537812  6.179271  6.429877  0.000296\n",
      "Residual  373.0  358.462188  0.961025       NaN       NaN\n",
      "       Item          F         P    ST1-2T    ST1-2P    ST1-3T    ST1-3P  \\\n",
      "0   Frontal   6.274495  0.000366  3.893297  0.000129  3.355901  0.000947   \n",
      "0  Temporal  10.152699  0.000002  5.021869  0.000001  3.821435  0.000177   \n",
      "0  Parietal   6.429877  0.000296  4.121261  0.000052  2.108000  0.036283   \n",
      "\n",
      "     ST1-4T    ST1-4P    ST2-3T    ST2-3P    ST2-4T    ST2-4P    ST3-4T  \\\n",
      "0  2.423349  0.016421 -0.075208  0.940124 -0.522103  0.602263 -0.411401   \n",
      "0  4.064840  0.000073 -0.902450  0.367893 -0.035141  0.972007  0.718612   \n",
      "0  3.098745  0.002273 -1.743634  0.082744 -0.188730  0.850524  1.246868   \n",
      "\n",
      "     ST3-4P  \n",
      "0  0.681417  \n",
      "0  0.473595  \n",
      "0  0.214558  \n",
      "====================================================\n",
      "Cingulate~Subtype\n",
      "====================================================\n",
      "             df     sum_sq   mean_sq          F    PR(>F)\n",
      "Subtype     3.0   28.58592  9.528640  10.201031  0.000002\n",
      "Residual  373.0  348.41408  0.934086        NaN       NaN\n",
      "        Item          F         P    ST1-2T    ST1-2P    ST1-3T    ST1-3P  \\\n",
      "0    Frontal   6.274495  0.000366  3.893297  0.000129  3.355901  0.000947   \n",
      "0   Temporal  10.152699  0.000002  5.021869  0.000001  3.821435  0.000177   \n",
      "0   Parietal   6.429877  0.000296  4.121261  0.000052  2.108000  0.036283   \n",
      "0  Cingulate  10.201031  0.000002  4.620073  0.000006  4.944379  0.000002   \n",
      "\n",
      "     ST1-4T    ST1-4P    ST2-3T    ST2-3P    ST2-4T    ST2-4P    ST3-4T  \\\n",
      "0  2.423349  0.016421 -0.075208  0.940124 -0.522103  0.602263 -0.411401   \n",
      "0  4.064840  0.000073 -0.902450  0.367893 -0.035141  0.972007  0.718612   \n",
      "0  3.098745  0.002273 -1.743634  0.082744 -0.188730  0.850524  1.246868   \n",
      "0  3.042790  0.002714  0.802712  0.423085 -0.377297  0.706413 -0.948715   \n",
      "\n",
      "     ST3-4P  \n",
      "0  0.681417  \n",
      "0  0.473595  \n",
      "0  0.214558  \n",
      "0  0.344424  \n",
      "====================================================\n",
      "Occipital~Subtype\n",
      "====================================================\n",
      "             df      sum_sq   mean_sq         F    PR(>F)\n",
      "Subtype     3.0    9.084851  3.028284  3.070137  0.027855\n",
      "Residual  373.0  367.915149  0.986368       NaN       NaN\n",
      "        Item          F         P    ST1-2T    ST1-2P    ST1-3T    ST1-3P  \\\n",
      "0    Frontal   6.274495  0.000366  3.893297  0.000129  3.355901  0.000947   \n",
      "0   Temporal  10.152699  0.000002  5.021869  0.000001  3.821435  0.000177   \n",
      "0   Parietal   6.429877  0.000296  4.121261  0.000052  2.108000  0.036283   \n",
      "0  Cingulate  10.201031  0.000002  4.620073  0.000006  4.944379  0.000002   \n",
      "0  Occipital   3.070137  0.027855  2.407855  0.016818  2.282486  0.023518   \n",
      "\n",
      "     ST1-4T    ST1-4P    ST2-3T    ST2-3P    ST2-4T    ST2-4P    ST3-4T  \\\n",
      "0  2.423349  0.016421 -0.075208  0.940124 -0.522103  0.602263 -0.411401   \n",
      "0  4.064840  0.000073 -0.902450  0.367893 -0.035141  0.972007  0.718612   \n",
      "0  3.098745  0.002273 -1.743634  0.082744 -0.188730  0.850524  1.246868   \n",
      "0  3.042790  0.002714  0.802712  0.423085 -0.377297  0.706413 -0.948715   \n",
      "0  2.451837  0.015218 -0.037036  0.970493  0.547774  0.584549  0.573751   \n",
      "\n",
      "     ST3-4P  \n",
      "0  0.681417  \n",
      "0  0.473595  \n",
      "0  0.214558  \n",
      "0  0.344424  \n",
      "0  0.567070  \n",
      "====================================================\n"
     ]
    }
   ],
   "source": [
    "names = ['Frontal','Temporal','Parietal','Cingulate','Occipital']\n",
    "Regional_volume = np.zeros([AD_GMV.shape[0],5])\n",
    "Regional_volume[:,0] = np.mean(AD_GMV[:,:68],axis=1)\n",
    "Regional_volume[:,1] = np.mean(AD_GMV[:,68:124],axis=1)\n",
    "Regional_volume[:,2] = np.mean(AD_GMV[:,124:162],axis=1)\n",
    "Regional_volume[:,3] = np.mean(AD_GMV[:,174:188],axis=1)\n",
    "Regional_volume[:,4] = np.mean(AD_GMV[:,188:210],axis=1)\n",
    "NC_Regional_volume = np.zeros([NC_GMV.shape[0],5])\n",
    "NC_Regional_volume[:,0] = np.mean(NC_GMV[:,:68],axis=1)\n",
    "NC_Regional_volume[:,1] = np.mean(NC_GMV[:,68:124],axis=1)\n",
    "NC_Regional_volume[:,2] = np.mean(NC_GMV[:,124:162],axis=1)\n",
    "NC_Regional_volume[:,3] = np.mean(NC_GMV[:,174:188],axis=1)\n",
    "NC_Regional_volume[:,4] = np.mean(NC_GMV[:,188:210],axis=1)\n",
    "AtrophyData = np.hstack([AD_Cluster.reshape([-1,1]),Regional_volume])\n",
    "AtrophyDf = pd.DataFrame(AtrophyData,columns=['Subtype','Frontal','Temporal','Parietal','Cingulate','Occipital'])\n",
    "z_scaler = lambda x : (x - np.mean(x)) / np.std(x)\n",
    "AtrophyDf.iloc[:,1:] = AtrophyDf.iloc[:,1:].apply(z_scaler)\n",
    "from stats import oneway_Anova\n",
    "columns = ['Frontal','Temporal','Parietal','Cingulate','Occipital']\n",
    "resData = pd.DataFrame(\n",
    "        columns=['Item', 'F', 'P', 'ST1-2T', 'ST1-2P', 'ST1-3T', 'ST1-3P', 'ST1-4T', 'ST1-4P', 'ST2-3T', 'ST2-3P',\n",
    "                 'ST2-4T', 'ST2-4P', 'ST3-4T', 'ST3-4P'])\n",
    "AtrophyDf['Subtype'] = AtrophyDf['Subtype'].astype('int64')+1\n",
    "AtrophyDf['Subtype'] = AtrophyDf['Subtype'].astype('object')\n",
    "for c in columns:\n",
    "    resultsDict = {}\n",
    "    res = oneway_Anova(AtrophyDf,c,'Subtype')\n",
    "    resultsDict['Item'] = c\n",
    "    resultsDict['F'] = res.loc['Subtype','F']\n",
    "    resultsDict['P'] = res.loc['Subtype','PR(>F)']\n",
    "\n",
    "    print('====================================================')\n",
    "    print(res)\n",
    "    for c1 in [1,2,3]:\n",
    "        for c2 in range(c1+1,5):\n",
    "            t,p = scipy.stats.ttest_ind(AtrophyDf.loc[AtrophyDf['Subtype']== c1,c],\n",
    "                                        AtrophyDf.loc[AtrophyDf['Subtype']== c2,c])\n",
    "\n",
    "            resultsDict['ST%d-%dT' % (c1,c2)] = t\n",
    "            resultsDict['ST%d-%dP' % (c1,c2)] = p\n",
    "    \n",
    "    resData = resData.append(pd.DataFrame(resultsDict,index=[0]))\n",
    "    print(resData)\n",
    "    print('====================================================')\n",
    "resData.to_csv('table/RegionalCT_ANOVA.csv')"
   ]
  },
  {
   "cell_type": "code",
   "execution_count": null,
   "id": "95f2bbfb-bab0-49f7-b5f8-dc81ab0f1c09",
   "metadata": {},
   "outputs": [],
   "source": [
    "names = ['Frontal','Temporal','Parietal','Cingulate','Occipital','Hippocampus','Basal Ganglia']\n",
    "Regional_volume = np.zeros([AD_GMV.shape[0],7])\n",
    "Regional_volume[:,0] = np.mean(AD_GMV[:,:68],axis=1)\n",
    "Regional_volume[:,1] = np.mean(AD_GMV[:,68:124],axis=1)\n",
    "Regional_volume[:,2] = np.mean(AD_GMV[:,124:162],axis=1)\n",
    "Regional_volume[:,3] = np.mean(AD_GMV[:,174:188],axis=1)\n",
    "Regional_volume[:,4] = np.mean(AD_GMV[:,188:210],axis=1)\n",
    "Regional_volume[:,5] = np.mean(AD_GMV[:,214:218],axis=1)\n",
    "Regional_volume[:,6] = np.mean(AD_GMV[:,218:230],axis=1)"
   ]
  },
  {
   "cell_type": "code",
   "execution_count": 88,
   "id": "76e5577d-2efa-4523-9f58-5376bc858446",
   "metadata": {},
   "outputs": [],
   "source": [
    "NC_Regional_volume = np.zeros([NC_GMV.shape[0],7])\n",
    "NC_Regional_volume[:,0] = np.mean(NC_GMV[:,:68],axis=1)\n",
    "NC_Regional_volume[:,1] = np.mean(NC_GMV[:,68:124],axis=1)\n",
    "NC_Regional_volume[:,2] = np.mean(NC_GMV[:,124:162],axis=1)\n",
    "NC_Regional_volume[:,3] = np.mean(NC_GMV[:,174:188],axis=1)\n",
    "NC_Regional_volume[:,4] = np.mean(NC_GMV[:,188:210],axis=1)\n",
    "NC_Regional_volume[:,5] = np.mean(NC_GMV[:,214:218],axis=1)\n",
    "NC_Regional_volume[:,6] = np.mean(NC_GMV[:,218:230],axis=1)"
   ]
  },
  {
   "cell_type": "code",
   "execution_count": 49,
   "id": "4caa9889-8078-4b6a-a8b8-11b3d3b9de86",
   "metadata": {},
   "outputs": [],
   "source": [
    "import scipy"
   ]
  },
  {
   "cell_type": "code",
   "execution_count": 89,
   "id": "a5bdf13e-b88e-48f9-8a44-5685f8f772ff",
   "metadata": {},
   "outputs": [],
   "source": [
    "AtrophyData = np.hstack([AD_Cluster.reshape([-1,1]),Regional_volume])\n",
    "AtrophyDf = pd.DataFrame(AtrophyData,columns=['Subtype','Frontal','Temporal','Parietal','Cingulate','Occipital','Hippocampus','Basal Ganglia'])\n",
    "z_scaler = lambda x : (x - np.mean(x)) / np.std(x)\n",
    "AtrophyDf.iloc[:,1:] = AtrophyDf.iloc[:,1:].apply(z_scaler)"
   ]
  },
  {
   "cell_type": "code",
   "execution_count": 170,
   "id": "c8a065e9-e083-4852-a7b5-6e9f70145c49",
   "metadata": {},
   "outputs": [
    {
     "data": {
      "image/png": "[encoded data removed]",
      "text/plain": [
       "<Figure size 864x216 with 1 Axes>"
      ]
     },
     "metadata": {},
     "output_type": "display_data"
    }
   ],
   "source": [
    "drawAtrophyDf = pd.melt(AtrophyDf,id_vars=['Subtype'])\n",
    "plt.figure(figsize=[12,3])\n",
    "sns.set_theme(style=\"whitegrid\")\n",
    "ax = sns.pointplot(x='variable',y='value',hue='Subtype',data=drawAtrophyDf,ci=None,palette = sns.color_palette([\"#374E55FF\",\"#DF8F44FF\",\"#00A1D5FF\",\"#B24745FF\"]),legend=False)\n",
    "sns.despine(left=True)\n",
    "ax.get_legend().remove()\n",
    "ax.set_xlabel('Area',fontsize=14)\n",
    "ax.set_ylabel('Z-score Volume',fontsize=14)\n",
    "plt.savefig('./DrawGMV/lineCompare.svg',dpi=300,bbox_inches='tight')"
   ]
  },
  {
   "cell_type": "markdown",
   "id": "0f1b65cb-bc75-46b0-b39d-98ad9049d19a",
   "metadata": {},
   "source": [
    "统计"
   ]
  },
  {
   "cell_type": "code",
   "execution_count": 90,
   "id": "3c93711a-4b4b-44cd-a714-71bcb26a20e0",
   "metadata": {
    "tags": []
   },
   "outputs": [
    {
     "name": "stdout",
     "output_type": "stream",
     "text": [
      "Frontal~Subtype\n",
      "====================================================\n",
      "             df      sum_sq   mean_sq         F    PR(>F)\n",
      "Subtype     3.0   18.111355  6.037118  6.274495  0.000366\n",
      "Residual  373.0  358.888645  0.962168       NaN       NaN\n",
      "      Item         F         P    ST1-2T    ST1-2P    ST1-3T    ST1-3P  \\\n",
      "0  Frontal  6.274495  0.000366  3.893297  0.000129  3.355901  0.000947   \n",
      "\n",
      "     ST1-4T    ST1-4P    ST2-3T    ST2-3P    ST2-4T    ST2-4P    ST3-4T  \\\n",
      "0  2.423349  0.016421 -0.075208  0.940124 -0.522103  0.602263 -0.411401   \n",
      "\n",
      "     ST3-4P  \n",
      "0  0.681417  \n",
      "====================================================\n",
      "Temporal~Subtype\n",
      "====================================================\n",
      "             df      sum_sq   mean_sq          F    PR(>F)\n",
      "Subtype     3.0   28.460707  9.486902  10.152699  0.000002\n",
      "Residual  373.0  348.539293  0.934422        NaN       NaN\n",
      "       Item          F         P    ST1-2T    ST1-2P    ST1-3T    ST1-3P  \\\n",
      "0   Frontal   6.274495  0.000366  3.893297  0.000129  3.355901  0.000947   \n",
      "0  Temporal  10.152699  0.000002  5.021869  0.000001  3.821435  0.000177   \n",
      "\n",
      "     ST1-4T    ST1-4P    ST2-3T    ST2-3P    ST2-4T    ST2-4P    ST3-4T  \\\n",
      "0  2.423349  0.016421 -0.075208  0.940124 -0.522103  0.602263 -0.411401   \n",
      "0  4.064840  0.000073 -0.902450  0.367893 -0.035141  0.972007  0.718612   \n",
      "\n",
      "     ST3-4P  \n",
      "0  0.681417  \n",
      "0  0.473595  \n",
      "====================================================\n",
      "Parietal~Subtype\n",
      "====================================================\n",
      "             df      sum_sq   mean_sq         F    PR(>F)\n",
      "Subtype     3.0   18.537812  6.179271  6.429877  0.000296\n",
      "Residual  373.0  358.462188  0.961025       NaN       NaN\n",
      "       Item          F         P    ST1-2T    ST1-2P    ST1-3T    ST1-3P  \\\n",
      "0   Frontal   6.274495  0.000366  3.893297  0.000129  3.355901  0.000947   \n",
      "0  Temporal  10.152699  0.000002  5.021869  0.000001  3.821435  0.000177   \n",
      "0  Parietal   6.429877  0.000296  4.121261  0.000052  2.108000  0.036283   \n",
      "\n",
      "     ST1-4T    ST1-4P    ST2-3T    ST2-3P    ST2-4T    ST2-4P    ST3-4T  \\\n",
      "0  2.423349  0.016421 -0.075208  0.940124 -0.522103  0.602263 -0.411401   \n",
      "0  4.064840  0.000073 -0.902450  0.367893 -0.035141  0.972007  0.718612   \n",
      "0  3.098745  0.002273 -1.743634  0.082744 -0.188730  0.850524  1.246868   \n",
      "\n",
      "     ST3-4P  \n",
      "0  0.681417  \n",
      "0  0.473595  \n",
      "0  0.214558  \n",
      "====================================================\n",
      "Cingulate~Subtype\n",
      "====================================================\n",
      "             df     sum_sq   mean_sq          F    PR(>F)\n",
      "Subtype     3.0   28.58592  9.528640  10.201031  0.000002\n",
      "Residual  373.0  348.41408  0.934086        NaN       NaN\n",
      "        Item          F         P    ST1-2T    ST1-2P    ST1-3T    ST1-3P  \\\n",
      "0    Frontal   6.274495  0.000366  3.893297  0.000129  3.355901  0.000947   \n",
      "0   Temporal  10.152699  0.000002  5.021869  0.000001  3.821435  0.000177   \n",
      "0   Parietal   6.429877  0.000296  4.121261  0.000052  2.108000  0.036283   \n",
      "0  Cingulate  10.201031  0.000002  4.620073  0.000006  4.944379  0.000002   \n",
      "\n",
      "     ST1-4T    ST1-4P    ST2-3T    ST2-3P    ST2-4T    ST2-4P    ST3-4T  \\\n",
      "0  2.423349  0.016421 -0.075208  0.940124 -0.522103  0.602263 -0.411401   \n",
      "0  4.064840  0.000073 -0.902450  0.367893 -0.035141  0.972007  0.718612   \n",
      "0  3.098745  0.002273 -1.743634  0.082744 -0.188730  0.850524  1.246868   \n",
      "0  3.042790  0.002714  0.802712  0.423085 -0.377297  0.706413 -0.948715   \n",
      "\n",
      "     ST3-4P  \n",
      "0  0.681417  \n",
      "0  0.473595  \n",
      "0  0.214558  \n",
      "0  0.344424  \n",
      "====================================================\n",
      "Occipital~Subtype\n",
      "====================================================\n",
      "             df      sum_sq   mean_sq         F    PR(>F)\n",
      "Subtype     3.0    9.084851  3.028284  3.070137  0.027855\n",
      "Residual  373.0  367.915149  0.986368       NaN       NaN\n",
      "        Item          F         P    ST1-2T    ST1-2P    ST1-3T    ST1-3P  \\\n",
      "0    Frontal   6.274495  0.000366  3.893297  0.000129  3.355901  0.000947   \n",
      "0   Temporal  10.152699  0.000002  5.021869  0.000001  3.821435  0.000177   \n",
      "0   Parietal   6.429877  0.000296  4.121261  0.000052  2.108000  0.036283   \n",
      "0  Cingulate  10.201031  0.000002  4.620073  0.000006  4.944379  0.000002   \n",
      "0  Occipital   3.070137  0.027855  2.407855  0.016818  2.282486  0.023518   \n",
      "\n",
      "     ST1-4T    ST1-4P    ST2-3T    ST2-3P    ST2-4T    ST2-4P    ST3-4T  \\\n",
      "0  2.423349  0.016421 -0.075208  0.940124 -0.522103  0.602263 -0.411401   \n",
      "0  4.064840  0.000073 -0.902450  0.367893 -0.035141  0.972007  0.718612   \n",
      "0  3.098745  0.002273 -1.743634  0.082744 -0.188730  0.850524  1.246868   \n",
      "0  3.042790  0.002714  0.802712  0.423085 -0.377297  0.706413 -0.948715   \n",
      "0  2.451837  0.015218 -0.037036  0.970493  0.547774  0.584549  0.573751   \n",
      "\n",
      "     ST3-4P  \n",
      "0  0.681417  \n",
      "0  0.473595  \n",
      "0  0.214558  \n",
      "0  0.344424  \n",
      "0  0.567070  \n",
      "====================================================\n",
      "Hippocampus~Subtype\n",
      "====================================================\n",
      "             df      sum_sq   mean_sq         F    PR(>F)\n",
      "Subtype     3.0    8.007046  2.669015  2.697999  0.045638\n",
      "Residual  373.0  368.992954  0.989257       NaN       NaN\n",
      "          Item          F         P    ST1-2T    ST1-2P    ST1-3T    ST1-3P  \\\n",
      "0      Frontal   6.274495  0.000366  3.893297  0.000129  3.355901  0.000947   \n",
      "0     Temporal  10.152699  0.000002  5.021869  0.000001  3.821435  0.000177   \n",
      "0     Parietal   6.429877  0.000296  4.121261  0.000052  2.108000  0.036283   \n",
      "0    Cingulate  10.201031  0.000002  4.620073  0.000006  4.944379  0.000002   \n",
      "0    Occipital   3.070137  0.027855  2.407855  0.016818  2.282486  0.023518   \n",
      "0  Hippocampus   2.697999  0.045638  2.704466  0.007342  1.145851  0.253233   \n",
      "\n",
      "     ST1-4T    ST1-4P    ST2-3T    ST2-3P    ST2-4T    ST2-4P    ST3-4T  \\\n",
      "0  2.423349  0.016421 -0.075208  0.940124 -0.522103  0.602263 -0.411401   \n",
      "0  4.064840  0.000073 -0.902450  0.367893 -0.035141  0.972007  0.718612   \n",
      "0  3.098745  0.002273 -1.743634  0.082744 -0.188730  0.850524  1.246868   \n",
      "0  3.042790  0.002714  0.802712  0.423085 -0.377297  0.706413 -0.948715   \n",
      "0  2.451837  0.015218 -0.037036  0.970493  0.547774  0.584549  0.573751   \n",
      "0  1.793935  0.074590 -1.331715  0.184455 -0.388944  0.697793  0.745866   \n",
      "\n",
      "     ST3-4P  \n",
      "0  0.681417  \n",
      "0  0.473595  \n",
      "0  0.214558  \n",
      "0  0.344424  \n",
      "0  0.567070  \n",
      "0  0.457017  \n",
      "====================================================\n",
      "BG~Subtype\n",
      "====================================================\n",
      "             df      sum_sq   mean_sq         F    PR(>F)\n",
      "Subtype     3.0    3.958904  1.319635  1.319489  0.267699\n",
      "Residual  373.0  373.041096  1.000110       NaN       NaN\n",
      "          Item          F         P    ST1-2T    ST1-2P    ST1-3T    ST1-3P  \\\n",
      "0      Frontal   6.274495  0.000366  3.893297  0.000129  3.355901  0.000947   \n",
      "0     Temporal  10.152699  0.000002  5.021869  0.000001  3.821435  0.000177   \n",
      "0     Parietal   6.429877  0.000296  4.121261  0.000052  2.108000  0.036283   \n",
      "0    Cingulate  10.201031  0.000002  4.620073  0.000006  4.944379  0.000002   \n",
      "0    Occipital   3.070137  0.027855  2.407855  0.016818  2.282486  0.023518   \n",
      "0  Hippocampus   2.697999  0.045638  2.704466  0.007342  1.145851  0.253233   \n",
      "0           BG   1.319489  0.267699  1.720043  0.086741  1.353368  0.177473   \n",
      "\n",
      "     ST1-4T    ST1-4P    ST2-3T    ST2-3P    ST2-4T    ST2-4P    ST3-4T  \\\n",
      "0  2.423349  0.016421 -0.075208  0.940124 -0.522103  0.602263 -0.411401   \n",
      "0  4.064840  0.000073 -0.902450  0.367893 -0.035141  0.972007  0.718612   \n",
      "0  3.098745  0.002273 -1.743634  0.082744 -0.188730  0.850524  1.246868   \n",
      "0  3.042790  0.002714  0.802712  0.423085 -0.377297  0.706413 -0.948715   \n",
      "0  2.451837  0.015218 -0.037036  0.970493  0.547774  0.584549  0.573751   \n",
      "0  1.793935  0.074590 -1.331715  0.184455 -0.388944  0.697793  0.745866   \n",
      "0  1.367814  0.173165 -0.188074  0.851007  0.001703  0.998643  0.159110   \n",
      "\n",
      "     ST3-4P  \n",
      "0  0.681417  \n",
      "0  0.473595  \n",
      "0  0.214558  \n",
      "0  0.344424  \n",
      "0  0.567070  \n",
      "0  0.457017  \n",
      "0  0.873815  \n",
      "====================================================\n"
     ]
    }
   ],
   "source": [
    "from stats import oneway_Anova\n",
    "columns = ['Frontal','Temporal','Parietal','Cingulate','Occipital','Hippocampus','BG']\n",
    "resData = pd.DataFrame(\n",
    "        columns=['Item', 'F', 'P', 'ST1-2T', 'ST1-2P', 'ST1-3T', 'ST1-3P', 'ST1-4T', 'ST1-4P', 'ST2-3T', 'ST2-3P',\n",
    "                 'ST2-4T', 'ST2-4P', 'ST3-4T', 'ST3-4P'])\n",
    "AtrophyDf['BG'] = AtrophyDf['Basal Ganglia']\n",
    "AtrophyDf['Subtype'] = AtrophyDf['Subtype'].astype('int64')+1\n",
    "AtrophyDf['Subtype'] = AtrophyDf['Subtype'].astype('object')\n",
    "for c in columns:\n",
    "    resultsDict = {}\n",
    "    res = oneway_Anova(AtrophyDf,c,'Subtype')\n",
    "    resultsDict['Item'] = c\n",
    "    resultsDict['F'] = res.loc['Subtype','F']\n",
    "    resultsDict['P'] = res.loc['Subtype','PR(>F)']\n",
    "\n",
    "    print('====================================================')\n",
    "    print(res)\n",
    "    for c1 in [1,2,3]:\n",
    "        for c2 in range(c1+1,5):\n",
    "            t,p = scipy.stats.ttest_ind(AtrophyDf.loc[AtrophyDf['Subtype']== c1,c],\n",
    "                                        AtrophyDf.loc[AtrophyDf['Subtype']== c2,c])\n",
    "\n",
    "            resultsDict['ST%d-%dT' % (c1,c2)] = t\n",
    "            resultsDict['ST%d-%dP' % (c1,c2)] = p\n",
    "    \n",
    "    resData = resData.append(pd.DataFrame(resultsDict,index=[0]))\n",
    "    print(resData)\n",
    "    print('====================================================')\n",
    "resData.to_csv('table/RegionalGMV_ANOVA2.csv')"
   ]
  },
  {
   "cell_type": "code",
   "execution_count": 66,
   "id": "f681c969-86b9-444b-a435-a2f69bbc386c",
   "metadata": {},
   "outputs": [
    {
     "data": {
      "text/plain": [
       "False"
      ]
     },
     "execution_count": 66,
     "metadata": {},
     "output_type": "execute_result"
    }
   ],
   "source": [
    "AtrophyDf['Subtype'][0]==2"
   ]
  },
  {
   "cell_type": "code",
   "execution_count": 68,
   "id": "acb0c589-c76c-4164-af85-e0836a7c93cb",
   "metadata": {},
   "outputs": [
    {
     "data": {
      "text/plain": [
       "3      1.469414\n",
       "5      1.942176\n",
       "9     -0.725093\n",
       "10    -0.452472\n",
       "13     0.503523\n",
       "         ...   \n",
       "360   -1.226208\n",
       "363   -0.399239\n",
       "364   -1.150714\n",
       "369   -1.878382\n",
       "373    0.902576\n",
       "Name: BG, Length: 120, dtype: float64"
      ]
     },
     "execution_count": 68,
     "metadata": {},
     "output_type": "execute_result"
    }
   ],
   "source": [
    "AtrophyDf.loc[AtrophyDf['Subtype']== c2,c]"
   ]
  },
  {
   "cell_type": "code",
   "execution_count": null,
   "id": "02d0d70a-2980-4d66-ad16-e7e4abd307d9",
   "metadata": {},
   "outputs": [],
   "source": [
    "Regional_volume_Df = pd.DataFrame(columns=['Subtype','Atrophy','Area'])\n",
    "for i in range(4):\n",
    "    ts = []\n",
    "    for j,name in enumerate(names):\n",
    "        ts.append(scipy.stats.ttest_ind(Regional_volume[AD_Cluster==i,j],NC_Regional_volume[:,j])[0])\n",
    "        AtrophyDf = AtrophyDf.append(pd.DataFrame(dict(Subtype='ST'+str(i+1),Atrophy=ts[-1],Area=name),index=[0]))\n",
    "    for t in ts:\n",
    "        print(t,end=',')\n",
    "    print()"
   ]
  },
  {
   "cell_type": "code",
   "execution_count": 145,
   "id": "c70721c2-97cf-4c06-b6ac-1a9325298e44",
   "metadata": {},
   "outputs": [
    {
     "data": {
      "text/plain": [
       "(377, 5)"
      ]
     },
     "execution_count": 145,
     "metadata": {},
     "output_type": "execute_result"
    }
   ],
   "source": [
    "BN_274 = nib.load()"
   ]
  },
  {
   "cell_type": "code",
   "execution_count": 198,
   "id": "c7800a84-3433-46da-8388-fd5f2c275358",
   "metadata": {},
   "outputs": [],
   "source": [
    "import nibabel as nib"
   ]
  },
  {
   "cell_type": "code",
   "execution_count": 205,
   "id": "11a2d3cb-081a-4167-be11-aae75e3653f2",
   "metadata": {},
   "outputs": [],
   "source": [
    "BN_274 = nib.load(BN_atlas)"
   ]
  },
  {
   "cell_type": "code",
   "execution_count": 206,
   "id": "dbf9ac54-307e-47bf-bea7-f46751a89543",
   "metadata": {},
   "outputs": [],
   "source": [
    "BN_274_Data = BN_274.get_fdata()\n",
    "BN_274_Data = np.nan_to_num(BN_274_Data)\n",
    "BN_274_Data[BN_274_Data>210] = 0\n",
    "nib.Nifti1Image(BN_274_Data,BN_274.affine).to_filename('E:/brain/BNatlas/BN_Atlas_210_1mm.nii')"
   ]
  },
  {
   "cell_type": "markdown",
   "id": "261288c2-37ff-4feb-a2e4-980f91fd6484",
   "metadata": {},
   "source": [
    "# roi mapping"
   ]
  },
  {
   "cell_type": "code",
   "execution_count": 224,
   "id": "02ed3d4e-7858-4c69-b062-4613ebbc84e5",
   "metadata": {},
   "outputs": [],
   "source": [
    "colors_in = [58/255,76/255,81/255]"
   ]
  },
  {
   "cell_type": "code",
   "execution_count": 225,
   "id": "3db4a4f0-36e9-44f1-a528-c3c33ada78cc",
   "metadata": {},
   "outputs": [],
   "source": [
    "with open('DrawGMV/ROI_Mapping_1.txt','w') as f:\n",
    "    for i in range(263):\n",
    "        f.write('%d,%d,%d,%d\\n'%(i,colors_in[0],colors_in[1],colors_in[2]))"
   ]
  }
 ],
 "metadata": {
  "kernelspec": {
   "display_name": "Python 3",
   "language": "python",
   "name": "python3"
  },
  "language_info": {
   "codemirror_mode": {
    "name": "ipython",
    "version": 3
   },
   "file_extension": ".py",
   "mimetype": "text/x-python",
   "name": "python",
   "nbconvert_exporter": "python",
   "pygments_lexer": "ipython3",
   "version": "3.6.10"
  },
  "widgets": {
   "application/vnd.jupyter.widget-state+json": {
    "state": {},
    "version_major": 2,
    "version_minor": 0
   }
  }
 },
 "nbformat": 4,
 "nbformat_minor": 5
}
